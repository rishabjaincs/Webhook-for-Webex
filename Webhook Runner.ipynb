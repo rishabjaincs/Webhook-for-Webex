{
 "cells": [
  {
   "cell_type": "markdown",
   "metadata": {},
   "source": [
    "<h1><center>Webhook for Webex Teams</center></h1>"
   ]
  },
  {
   "cell_type": "markdown",
   "metadata": {},
   "source": [
    "#### These are the following API Calls Supported by Webex Team\n",
    "\n",
    "> **List Webhooks**        (GET)<br>\n",
    "> **Create a Webhook**     (POST)<br>\n",
    "> **Get Webhook Details**  (GET)<br>\n",
    "> **Update a Webhook**     (PUT)<br>\n",
    "> **Delete a Webhook**     (DELETE)"
   ]
  },
  {
   "cell_type": "code",
   "execution_count": null,
   "metadata": {},
   "outputs": [],
   "source": [
    "# These libraries are required to run the above stated libraries\n",
    "import requests\n",
    "import json"
   ]
  },
  {
   "cell_type": "markdown",
   "metadata": {},
   "source": [
    "`Below details contains BOT Access Token and Header with expected request and response in JSON`"
   ]
  },
  {
   "cell_type": "code",
   "execution_count": null,
   "metadata": {},
   "outputs": [],
   "source": [
    "token=\"<token-id>\" \n",
    "# Mention the token ID achieved when you have created the BOT\n",
    "# Reference: https://developer.webex.com/my-apps/new/bot\n",
    "\n",
    "#This is a global header declared that will be used by all the API calls\n",
    "headers={'content-type': \"application/json\",\n",
    "         'authorization':'Bearer {}'.format(token),\n",
    "         'accept':\"application/json\"}"
   ]
  },
  {
   "cell_type": "markdown",
   "metadata": {},
   "source": [
    "#### --------------------------------------------------------------------------------- RoomID for a Group ---------------------------------------------------------------------------------"
   ]
  },
  {
   "cell_type": "markdown",
   "metadata": {},
   "source": [
    "`This Function is not actually a part of Webhook Section\n",
    "But will help us to retain the RoomID for the Group Name Mentioned if BOT present in that group`"
   ]
  },
  {
   "cell_type": "code",
   "execution_count": null,
   "metadata": {},
   "outputs": [],
   "source": [
    "def grp_check(grp_name):\n",
    "    b_token = \"Bearer \"+token\n",
    "    group_check=\"https://webexapis.com/v1/rooms?type=group\"\n",
    "    headers={'content-type': \"application/json\",\n",
    "             'authorization':b_token,\n",
    "             'accept':\"application/json\"}\n",
    "    response = requests.request(\"GET\", group_check, headers=headers)\n",
    "    data=response.json()\n",
    "    groups = data[\"items\"]\n",
    "#     print(groups)\n",
    "#     print(\"\\n\")\n",
    "    for group in groups:\n",
    "#         print(group)\n",
    "#         print(\"\\n\")\n",
    "        if group['title'] == grp_name:\n",
    "            result = group['id']\n",
    "            status=True\n",
    "            break\n",
    "        else:\n",
    "            result=\"The mentioned Group is not associated with the BOT. Please make sure that the added spelling is correct with your group name or Please add the BOT into the group if missing\"\n",
    "            status=False\n",
    "    return status,result\n",
    "\n",
    "grp_check('Group Name') #Mention Webex Group Name"
   ]
  },
  {
   "cell_type": "markdown",
   "metadata": {},
   "source": [
    "#### --------------------------------------------------------------------------------- List All Webhooks ---------------------------------------------------------------------------------"
   ]
  },
  {
   "cell_type": "markdown",
   "metadata": {},
   "source": [
    "`\n",
    "Below Function will list all the Webhook associated with the BOT Access Token\n",
    "Response Payload is in JSON Format includes Name, targetUrl, Resources, Event, Filter, OrgID, createdBy, appId, ownedBy, status, created`"
   ]
  },
  {
   "cell_type": "code",
   "execution_count": null,
   "metadata": {},
   "outputs": [],
   "source": [
    "def list_webhook():\n",
    "    url=\"https://webexapis.com/v1/webhooks?max=100\"\n",
    "    response=requests.request(\"GET\", url, headers=headers)\n",
    "    data=response.json()['items']\n",
    "    return data\n",
    "\n",
    "list_webhook()"
   ]
  },
  {
   "cell_type": "markdown",
   "metadata": {},
   "source": [
    "#### --------------------------------------------------------------------------------- Create a new Webhook ---------------------------------------------------------------------------------"
   ]
  },
  {
   "cell_type": "markdown",
   "metadata": {},
   "source": [
    "`\n",
    "Below Function will create a new Webhook\n",
    "Request Payload is in JSON Format requires Name, targetUrl, Resources and Event\n",
    "These are some optional fields Filter and Secret`"
   ]
  },
  {
   "cell_type": "code",
   "execution_count": null,
   "metadata": {},
   "outputs": [],
   "source": [
    "def create_webhook(roomID,webhook_name,webhook_url):\n",
    "    url=\"https://webexapis.com/v1/webhooks\"\n",
    "    payload=json.dumps({\n",
    "        \"name\": \"{}\".format(webhook_name),\n",
    "        \"targetUrl\": \"{}\".format(webhook_url),\n",
    "        \"resource\": \"messages\",\n",
    "        \"event\": \"created\",\n",
    "        \"filter\": \"roomId={}\".format(roomID) # Here, mentioned that BOT is accessible via associated Group only.\n",
    "    })\n",
    "    response = requests.request(\"POST\", url, data=payload, headers=headers)\n",
    "    print(\"Here's the Webhook Details !!\")\n",
    "    if response.status_code==200:\n",
    "        print(response.json())\n",
    "    else:\n",
    "        print('Error Detected !!')\n",
    "        print(response.json())\n",
    "        "
   ]
  },
  {
   "cell_type": "code",
   "execution_count": null,
   "metadata": {},
   "outputs": [],
   "source": [
    "status,roomID=grp_check('Group Name') # Mention the Group Name\n",
    "webhook_name='Testing Webhook' # Mention the Name for the Webhook\n",
    "webhook_url='https://test.ngrok.io' # Mention the Webhook URL\n",
    "create_webhook(roomID,webhook_name,webhook_url)"
   ]
  },
  {
   "cell_type": "markdown",
   "metadata": {},
   "source": [
    "#### --------------------------------------------------------------------------------- Webhook Details---------------------------------------------------------------------------------"
   ]
  },
  {
   "cell_type": "markdown",
   "metadata": {},
   "source": [
    "<b>For Webhook details you need Webhook ID:</b><br><br>\n",
    "`\n",
    "{\n",
    "  \"id\": \"Y2lzY29zcGFyazovL3VzL1dFQkhPT0svOTZhYmMyYWEtM2RjYy0xMWU1LWExNTItZmUzNDgxOWNkYzlh\",\n",
    "  \"name\": \"My Awesome Webhook\",\n",
    "  \"targetUrl\": \"https://example.com/mywebhook\",\n",
    "  \"resource\": \"messages\",\n",
    "  \"event\": \"created\",\n",
    "  \"filter\": \"roomId=Y2lzY29zcGFyazovL3VzL1JPT00vYmJjZWIxYWQtNDNmMS0zYjU4LTkxNDctZjE0YmIwYzRkMTU0\",\n",
    "  \"secret\": \"86dacc007724d8ea666f88fc77d918dad9537a15\",\n",
    "  \"status\": \"active\",\n",
    "  \"created\": \"2015-10-18T14:26:16+00:00\"\n",
    "}`\n"
   ]
  },
  {
   "cell_type": "markdown",
   "metadata": {},
   "source": [
    "`\n",
    "Below Function will get the details of particular Webhook, Using Webhook ID\n",
    "Response Payload is in JSON Format includes ID, Name, targetUrl, Resources, Event, Filter, Secret, Status, Created`"
   ]
  },
  {
   "cell_type": "code",
   "execution_count": null,
   "metadata": {},
   "outputs": [],
   "source": [
    "def get_webhook_details(id):\n",
    "    url=\"https://webexapis.com/v1/webhooks/{}\".format(id)\n",
    "    response = requests.request(\"GET\", url, headers=headers)\n",
    "    if response.status_code==200:\n",
    "        print(response.json())\n",
    "    else:\n",
    "        print('Error Detected !!')\n",
    "        print(response.json())\n",
    "\n",
    "#Mention the Webhook ID, Recieved when Webhook has been created\n",
    "get_webhook_details('Webhook ID')"
   ]
  },
  {
   "cell_type": "markdown",
   "metadata": {},
   "source": [
    "#### --------------------------------------------------------------------------------- Update Webhook Details---------------------------------------------------------------------------------"
   ]
  },
  {
   "cell_type": "markdown",
   "metadata": {},
   "source": [
    "<b>These Information can be updated via below API call:</b><br><br>\n",
    "`\n",
    "{\n",
    "  \"name\": \"My Awesome Webhook\",\n",
    "  \"targetUrl\": \"https://example.com/mywebhook\",\n",
    "  \"secret\": \"86dacc007724d8ea666f88fc77d918dad9537a15\",\n",
    "  \"status\": \"active\"\n",
    "}`\n",
    "\n",
    "**Note:** ***name and targetUrl are required***"
   ]
  },
  {
   "cell_type": "markdown",
   "metadata": {},
   "source": [
    "`Below Function will update the particular Webhook, Using Webhook ID\n",
    "Here Request Payload is in JSON Format as Name and targetUrl, Both of them are required`"
   ]
  },
  {
   "cell_type": "code",
   "execution_count": null,
   "metadata": {},
   "outputs": [],
   "source": [
    "def update_webex_details(id):\n",
    "    url=\"https://webexapis.com/v1/webhooks/{}\".format(id)\n",
    "    webhook_name=\"demo_change\"\n",
    "    webhook_url=\"https://test.ngrok.io\"\n",
    "    \n",
    "    payload=json.dumps({\n",
    "        \"name\": \"{}\".format(webhook_name),\n",
    "        \"targetUrl\": \"{}\".format(webhook_url)\n",
    "    })\n",
    "    response = requests.request(\"PUT\", url,data=payload, headers=headers)\n",
    "    if response.status_code==200:\n",
    "        print(response.json())\n",
    "    else:\n",
    "        print('Error Detected !!')\n",
    "        print(response.json())\n",
    "        \n",
    "#The string contains the Webhook ID, Recieved when Webhook has been created\n",
    "update_webex_details(\"Webhook ID\")"
   ]
  },
  {
   "cell_type": "markdown",
   "metadata": {},
   "source": [
    "#### --------------------------------------------------------------------------------- Delete a Webhook---------------------------------------------------------------------------------"
   ]
  },
  {
   "cell_type": "markdown",
   "metadata": {},
   "source": [
    "`Below function will delete all the Webhooks created for this BOT, using List All Webhooks API`"
   ]
  },
  {
   "cell_type": "code",
   "execution_count": null,
   "metadata": {},
   "outputs": [],
   "source": [
    "def delete_all_webhook():\n",
    "    for web in list_webhook():\n",
    "        url=\"https://webexapis.com/v1/webhooks/{}\".format(web['id'])\n",
    "        response = requests.request(\"DELETE\", url, headers=headers)\n",
    "        print('Successfully Deleted {} webhook'.format(web['name']))\n",
    "delete_all_webhook()      "
   ]
  },
  {
   "cell_type": "markdown",
   "metadata": {},
   "source": [
    "`Delete a particular Webhook based on the Webhook ID Provided`"
   ]
  },
  {
   "cell_type": "code",
   "execution_count": null,
   "metadata": {},
   "outputs": [],
   "source": [
    "def delete_webhook(id):\n",
    "    url=\"https://webexapis.com/v1/webhooks/{}\".format(id)\n",
    "    response = requests.request(\"DELETE\", url, headers=headers)\n",
    "    if response.status_code==204:\n",
    "        print('Successfully Deleted !!')\n",
    "    else:\n",
    "        print('Error Detected !!')\n",
    "        print(response.json())\n",
    "\n",
    "#Mention the Webhook ID, Recieved when Webhook has been created\n",
    "delete_webhook('Webhook ID')"
   ]
  },
  {
   "cell_type": "code",
   "execution_count": null,
   "metadata": {},
   "outputs": [],
   "source": []
  }
 ],
 "metadata": {
  "kernelspec": {
   "display_name": "Python 3",
   "language": "python",
   "name": "python3"
  },
  "language_info": {
   "codemirror_mode": {
    "name": "ipython",
    "version": 3
   },
   "file_extension": ".py",
   "mimetype": "text/x-python",
   "name": "python",
   "nbconvert_exporter": "python",
   "pygments_lexer": "ipython3",
   "version": "3.7.2"
  }
 },
 "nbformat": 4,
 "nbformat_minor": 2
}
